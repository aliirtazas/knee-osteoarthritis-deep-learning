{
 "cells": [
  {
   "cell_type": "code",
   "execution_count": 5,
   "metadata": {},
   "outputs": [],
   "source": [
    "import os\n",
    "import cv2\n",
    "import numpy as np"
   ]
  },
  {
   "cell_type": "code",
   "execution_count": 8,
   "metadata": {},
   "outputs": [],
   "source": [
    "# Path to the directory containing the X-ray images\n",
    "dataset_folder = r\"KneeXray\"\n",
    "\n",
    "\n",
    "# Function to preprocess images\n",
    "def preprocess_image(image_path):\n",
    "    # Read the image\n",
    "    image = cv2.imread(image_path)\n",
    "    \n",
    "    # Resize the image to a consistent size (e.g., 512x512)\n",
    "    image = cv2.resize(image, (224, 224))\n",
    "    \n",
    "    # Convert the image to grayscale\n",
    "    gray_image = cv2.cvtColor(image, cv2.COLOR_BGR2GRAY)\n",
    "    \n",
    "    # Normalize pixel values to the range [0, 1]\n",
    "    normalized_image = gray_image / 255.0\n",
    "    \n",
    "    # Apply Gaussian blur for noise reduction\n",
    "    blurred_image = cv2.GaussianBlur(normalized_image, (5, 5), 0)\n",
    "    \n",
    "    # Perform contrast enhancement using histogram equalization\n",
    "    enhanced_image = cv2.equalizeHist(np.uint8(blurred_image * 255))\n",
    "    \n",
    "    return enhanced_image\n",
    "\n",
    "# Function to preprocess all images in a directory (including subdirectories)\n",
    "def preprocess_images_in_directory(directory):\n",
    "    for filename in os.listdir(directory):\n",
    "        filepath = os.path.join(directory, filename)\n",
    "        if os.path.isdir(filepath):\n",
    "            # If the item is a directory, recursively call the function\n",
    "            preprocess_images_in_directory(filepath)\n",
    "        elif filename.endswith(\".jpg\") or filename.endswith(\".png\"):\n",
    "            # Preprocess the image\n",
    "            preprocessed_image = preprocess_image(filepath)\n",
    "            \n",
    "            # Save the preprocessed image to the preprocessed folder\n",
    "            relative_path = os.path.relpath(filepath, dataset_folder)\n",
    "            preprocessed_image_path = os.path.join(preprocessed_folder, relative_path)\n",
    "            os.makedirs(os.path.dirname(preprocessed_image_path), exist_ok=True)\n",
    "            cv2.imwrite(preprocessed_image_path, preprocessed_image)\n",
    "\n",
    "# Preprocess all images in the dataset folder (including subfolders)\n",
    "for i in os.listdir(dataset_folder):\n",
    "    preprocessed_folder = \"PreprocessedValidation\"\n",
    "    os.makedirs(preprocessed_folder, exist_ok=True)\n",
    "    preprocess_images_in_directory(dataset_folder+\"/\"+i)\n",
    "    # Create a new directory to store preprocessed images"
   ]
  }
 ],
 "metadata": {
  "kernelspec": {
   "display_name": "nlpllm",
   "language": "python",
   "name": "python3"
  },
  "language_info": {
   "codemirror_mode": {
    "name": "ipython",
    "version": 3
   },
   "file_extension": ".py",
   "mimetype": "text/x-python",
   "name": "python",
   "nbconvert_exporter": "python",
   "pygments_lexer": "ipython3",
   "version": "3.12.8"
  }
 },
 "nbformat": 4,
 "nbformat_minor": 2
}
